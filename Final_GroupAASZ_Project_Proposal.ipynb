{
 "cells": [
  {
   "cell_type": "markdown",
   "metadata": {},
   "source": [
    "__Title:__ Predicting heart disease patients using K-nearest neighbours classification\n"
   ]
  },
  {
   "cell_type": "markdown",
   "metadata": {},
   "source": [
    "__Introduction:__ Heart disease is a medical condition that affects people worldwide. Various factors contribute to the risk of heart disease such as age, sex, cholesterol, and many more. However, it is difficult to determine which factors are the greatest factors that contribute to said disease, thus modeling data is a great way to make better predictions that can be applied to patients at risk.\n",
    "\n",
    "The dataset used is the UCI Heart Disease Dataset for Cleveland. The data variables include: age, sex, chest pain, resting blood pressure, cholesterol,  fasting blood pressure, resting electrocardiographic results, maximum heart rate achieved, exercise induced angina, the slope of the peak exercise ST segment, ST depression induced by exercise relative to rest,  number of major vessels, and diagnosis of heart disease.\n",
    "\n",
    "__Question:__ How can we use the most significant factors that affect heart disease to create an effective model to predict potential heart disease patients in Cleveland?\n",
    "\n"
   ]
  },
  {
   "cell_type": "markdown",
   "metadata": {},
   "source": [
    "__Prelimimary Exploratory Data Analysis__"
   ]
  },
  {
   "cell_type": "code",
   "execution_count": 2,
   "metadata": {},
   "outputs": [
    {
     "name": "stderr",
     "output_type": "stream",
     "text": [
      "── \u001b[1mAttaching packages\u001b[22m ─────────────────────────────────────── tidyverse 1.3.0 ──\n",
      "\n",
      "\u001b[32m✔\u001b[39m \u001b[34mggplot2\u001b[39m 3.3.2     \u001b[32m✔\u001b[39m \u001b[34mpurrr  \u001b[39m 0.3.4\n",
      "\u001b[32m✔\u001b[39m \u001b[34mtibble \u001b[39m 3.0.3     \u001b[32m✔\u001b[39m \u001b[34mdplyr  \u001b[39m 1.0.2\n",
      "\u001b[32m✔\u001b[39m \u001b[34mtidyr  \u001b[39m 1.1.2     \u001b[32m✔\u001b[39m \u001b[34mstringr\u001b[39m 1.4.0\n",
      "\u001b[32m✔\u001b[39m \u001b[34mreadr  \u001b[39m 1.3.1     \u001b[32m✔\u001b[39m \u001b[34mforcats\u001b[39m 0.5.0\n",
      "\n",
      "Warning message:\n",
      "“package ‘ggplot2’ was built under R version 4.0.1”\n",
      "Warning message:\n",
      "“package ‘tibble’ was built under R version 4.0.2”\n",
      "Warning message:\n",
      "“package ‘tidyr’ was built under R version 4.0.2”\n",
      "Warning message:\n",
      "“package ‘dplyr’ was built under R version 4.0.2”\n",
      "── \u001b[1mConflicts\u001b[22m ────────────────────────────────────────── tidyverse_conflicts() ──\n",
      "\u001b[31m✖\u001b[39m \u001b[34mdplyr\u001b[39m::\u001b[32mfilter()\u001b[39m masks \u001b[34mstats\u001b[39m::filter()\n",
      "\u001b[31m✖\u001b[39m \u001b[34mdplyr\u001b[39m::\u001b[32mlag()\u001b[39m    masks \u001b[34mstats\u001b[39m::lag()\n",
      "\n",
      "Warning message:\n",
      "“package ‘tidymodels’ was built under R version 4.0.2”\n",
      "── \u001b[1mAttaching packages\u001b[22m ────────────────────────────────────── tidymodels 0.1.1 ──\n",
      "\n",
      "\u001b[32m✔\u001b[39m \u001b[34mbroom    \u001b[39m 0.7.0      \u001b[32m✔\u001b[39m \u001b[34mrecipes  \u001b[39m 0.1.13\n",
      "\u001b[32m✔\u001b[39m \u001b[34mdials    \u001b[39m 0.0.9      \u001b[32m✔\u001b[39m \u001b[34mrsample  \u001b[39m 0.0.7 \n",
      "\u001b[32m✔\u001b[39m \u001b[34minfer    \u001b[39m 0.5.4      \u001b[32m✔\u001b[39m \u001b[34mtune     \u001b[39m 0.1.1 \n",
      "\u001b[32m✔\u001b[39m \u001b[34mmodeldata\u001b[39m 0.0.2      \u001b[32m✔\u001b[39m \u001b[34mworkflows\u001b[39m 0.2.0 \n",
      "\u001b[32m✔\u001b[39m \u001b[34mparsnip  \u001b[39m 0.1.3      \u001b[32m✔\u001b[39m \u001b[34myardstick\u001b[39m 0.0.7 \n",
      "\n",
      "Warning message:\n",
      "“package ‘broom’ was built under R version 4.0.2”\n",
      "Warning message:\n",
      "“package ‘dials’ was built under R version 4.0.2”\n",
      "Warning message:\n",
      "“package ‘infer’ was built under R version 4.0.3”\n",
      "Warning message:\n",
      "“package ‘modeldata’ was built under R version 4.0.1”\n",
      "Warning message:\n",
      "“package ‘parsnip’ was built under R version 4.0.2”\n",
      "Warning message:\n",
      "“package ‘recipes’ was built under R version 4.0.1”\n",
      "Warning message:\n",
      "“package ‘tune’ was built under R version 4.0.2”\n",
      "Warning message:\n",
      "“package ‘workflows’ was built under R version 4.0.2”\n",
      "Warning message:\n",
      "“package ‘yardstick’ was built under R version 4.0.2”\n",
      "── \u001b[1mConflicts\u001b[22m ───────────────────────────────────────── tidymodels_conflicts() ──\n",
      "\u001b[31m✖\u001b[39m \u001b[34mscales\u001b[39m::\u001b[32mdiscard()\u001b[39m masks \u001b[34mpurrr\u001b[39m::discard()\n",
      "\u001b[31m✖\u001b[39m \u001b[34mdplyr\u001b[39m::\u001b[32mfilter()\u001b[39m   masks \u001b[34mstats\u001b[39m::filter()\n",
      "\u001b[31m✖\u001b[39m \u001b[34mrecipes\u001b[39m::\u001b[32mfixed()\u001b[39m  masks \u001b[34mstringr\u001b[39m::fixed()\n",
      "\u001b[31m✖\u001b[39m \u001b[34mdplyr\u001b[39m::\u001b[32mlag()\u001b[39m      masks \u001b[34mstats\u001b[39m::lag()\n",
      "\u001b[31m✖\u001b[39m \u001b[34myardstick\u001b[39m::\u001b[32mspec()\u001b[39m masks \u001b[34mreadr\u001b[39m::spec()\n",
      "\u001b[31m✖\u001b[39m \u001b[34mrecipes\u001b[39m::\u001b[32mstep()\u001b[39m   masks \u001b[34mstats\u001b[39m::step()\n",
      "\n",
      "Registered S3 method overwritten by 'GGally':\n",
      "  method from   \n",
      "  +.gg   ggplot2\n",
      "\n"
     ]
    }
   ],
   "source": [
    "library(tidyverse)\n",
    "library(tidymodels)\n",
    "library(repr)\n",
    "library(dplyr)\n",
    "library(ggplot2)\n",
    "library(GGally)"
   ]
  },
  {
   "cell_type": "code",
   "execution_count": 3,
   "metadata": {},
   "outputs": [
    {
     "name": "stderr",
     "output_type": "stream",
     "text": [
      "Parsed with column specification:\n",
      "cols(\n",
      "  X1 = \u001b[32mcol_double()\u001b[39m,\n",
      "  X2 = \u001b[32mcol_double()\u001b[39m,\n",
      "  X3 = \u001b[32mcol_double()\u001b[39m,\n",
      "  X4 = \u001b[32mcol_double()\u001b[39m,\n",
      "  X5 = \u001b[32mcol_double()\u001b[39m,\n",
      "  X6 = \u001b[32mcol_double()\u001b[39m,\n",
      "  X7 = \u001b[32mcol_double()\u001b[39m,\n",
      "  X8 = \u001b[32mcol_double()\u001b[39m,\n",
      "  X9 = \u001b[32mcol_double()\u001b[39m,\n",
      "  X10 = \u001b[32mcol_double()\u001b[39m,\n",
      "  X11 = \u001b[32mcol_double()\u001b[39m,\n",
      "  X12 = \u001b[31mcol_character()\u001b[39m,\n",
      "  X13 = \u001b[31mcol_character()\u001b[39m,\n",
      "  X14 = \u001b[32mcol_double()\u001b[39m\n",
      ")\n",
      "\n",
      "Warning message:\n",
      "“Problem with `mutate()` input `ca`.\n",
      "\u001b[34mℹ\u001b[39m NAs introduced by coercion\n",
      "\u001b[34mℹ\u001b[39m Input `ca` is `as.double(ca)`.”\n",
      "Warning message in mask$eval_all_mutate(dots[[i]]):\n",
      "“NAs introduced by coercion”\n",
      "Warning message:\n",
      "“Problem with `mutate()` input `thal`.\n",
      "\u001b[34mℹ\u001b[39m NAs introduced by coercion\n",
      "\u001b[34mℹ\u001b[39m Input `thal` is `as.double(thal)`.”\n",
      "Warning message in mask$eval_all_mutate(dots[[i]]):\n",
      "“NAs introduced by coercion”\n"
     ]
    },
    {
     "data": {
      "text/html": [
       "<table>\n",
       "<caption>A tibble: 229 × 15</caption>\n",
       "<thead>\n",
       "\t<tr><th scope=col>age</th><th scope=col>sex</th><th scope=col>cp</th><th scope=col>trestbps</th><th scope=col>chol</th><th scope=col>fbs</th><th scope=col>restecg</th><th scope=col>thalach</th><th scope=col>exang</th><th scope=col>oldpeak</th><th scope=col>slope</th><th scope=col>ca</th><th scope=col>thal</th><th scope=col>num</th><th scope=col>hasdisease</th></tr>\n",
       "\t<tr><th scope=col>&lt;dbl&gt;</th><th scope=col>&lt;fct&gt;</th><th scope=col>&lt;fct&gt;</th><th scope=col>&lt;dbl&gt;</th><th scope=col>&lt;dbl&gt;</th><th scope=col>&lt;fct&gt;</th><th scope=col>&lt;fct&gt;</th><th scope=col>&lt;dbl&gt;</th><th scope=col>&lt;fct&gt;</th><th scope=col>&lt;dbl&gt;</th><th scope=col>&lt;fct&gt;</th><th scope=col>&lt;int&gt;</th><th scope=col>&lt;fct&gt;</th><th scope=col>&lt;fct&gt;</th><th scope=col>&lt;lgl&gt;</th></tr>\n",
       "</thead>\n",
       "<tbody>\n",
       "\t<tr><td>63</td><td>1</td><td>1</td><td>145</td><td>233</td><td>1</td><td>2</td><td>150</td><td>0</td><td>2.3</td><td>3</td><td>0</td><td>6</td><td>0</td><td>FALSE</td></tr>\n",
       "\t<tr><td>67</td><td>1</td><td>4</td><td>160</td><td>286</td><td>0</td><td>2</td><td>108</td><td>1</td><td>1.5</td><td>2</td><td>3</td><td>3</td><td>2</td><td> TRUE</td></tr>\n",
       "\t<tr><td>67</td><td>1</td><td>4</td><td>120</td><td>229</td><td>0</td><td>2</td><td>129</td><td>1</td><td>2.6</td><td>2</td><td>2</td><td>7</td><td>1</td><td> TRUE</td></tr>\n",
       "\t<tr><td>41</td><td>0</td><td>2</td><td>130</td><td>204</td><td>0</td><td>2</td><td>172</td><td>0</td><td>1.4</td><td>1</td><td>0</td><td>3</td><td>0</td><td>FALSE</td></tr>\n",
       "\t<tr><td>56</td><td>1</td><td>2</td><td>120</td><td>236</td><td>0</td><td>0</td><td>178</td><td>0</td><td>0.8</td><td>1</td><td>0</td><td>3</td><td>0</td><td>FALSE</td></tr>\n",
       "\t<tr><td>62</td><td>0</td><td>4</td><td>140</td><td>268</td><td>0</td><td>2</td><td>160</td><td>0</td><td>3.6</td><td>3</td><td>2</td><td>3</td><td>3</td><td> TRUE</td></tr>\n",
       "\t<tr><td>57</td><td>0</td><td>4</td><td>120</td><td>354</td><td>0</td><td>0</td><td>163</td><td>1</td><td>0.6</td><td>1</td><td>0</td><td>3</td><td>0</td><td>FALSE</td></tr>\n",
       "\t<tr><td>63</td><td>1</td><td>4</td><td>130</td><td>254</td><td>0</td><td>2</td><td>147</td><td>0</td><td>1.4</td><td>2</td><td>1</td><td>7</td><td>2</td><td> TRUE</td></tr>\n",
       "\t<tr><td>53</td><td>1</td><td>4</td><td>140</td><td>203</td><td>1</td><td>2</td><td>155</td><td>1</td><td>3.1</td><td>3</td><td>0</td><td>7</td><td>1</td><td> TRUE</td></tr>\n",
       "\t<tr><td>56</td><td>0</td><td>2</td><td>140</td><td>294</td><td>0</td><td>2</td><td>153</td><td>0</td><td>1.3</td><td>2</td><td>0</td><td>3</td><td>0</td><td>FALSE</td></tr>\n",
       "\t<tr><td>56</td><td>1</td><td>3</td><td>130</td><td>256</td><td>1</td><td>2</td><td>142</td><td>1</td><td>0.6</td><td>2</td><td>1</td><td>6</td><td>2</td><td> TRUE</td></tr>\n",
       "\t<tr><td>44</td><td>1</td><td>2</td><td>120</td><td>263</td><td>0</td><td>0</td><td>173</td><td>0</td><td>0.0</td><td>1</td><td>0</td><td>7</td><td>0</td><td>FALSE</td></tr>\n",
       "\t<tr><td>52</td><td>1</td><td>3</td><td>172</td><td>199</td><td>1</td><td>0</td><td>162</td><td>0</td><td>0.5</td><td>1</td><td>0</td><td>7</td><td>0</td><td>FALSE</td></tr>\n",
       "\t<tr><td>48</td><td>1</td><td>2</td><td>110</td><td>229</td><td>0</td><td>0</td><td>168</td><td>0</td><td>1.0</td><td>3</td><td>0</td><td>7</td><td>1</td><td> TRUE</td></tr>\n",
       "\t<tr><td>54</td><td>1</td><td>4</td><td>140</td><td>239</td><td>0</td><td>0</td><td>160</td><td>0</td><td>1.2</td><td>1</td><td>0</td><td>3</td><td>0</td><td>FALSE</td></tr>\n",
       "\t<tr><td>48</td><td>0</td><td>3</td><td>130</td><td>275</td><td>0</td><td>0</td><td>139</td><td>0</td><td>0.2</td><td>1</td><td>0</td><td>3</td><td>0</td><td>FALSE</td></tr>\n",
       "\t<tr><td>49</td><td>1</td><td>2</td><td>130</td><td>266</td><td>0</td><td>0</td><td>171</td><td>0</td><td>0.6</td><td>1</td><td>0</td><td>3</td><td>0</td><td>FALSE</td></tr>\n",
       "\t<tr><td>64</td><td>1</td><td>1</td><td>110</td><td>211</td><td>0</td><td>2</td><td>144</td><td>1</td><td>1.8</td><td>2</td><td>0</td><td>3</td><td>0</td><td>FALSE</td></tr>\n",
       "\t<tr><td>58</td><td>0</td><td>1</td><td>150</td><td>283</td><td>1</td><td>2</td><td>162</td><td>0</td><td>1.0</td><td>1</td><td>0</td><td>3</td><td>0</td><td>FALSE</td></tr>\n",
       "\t<tr><td>58</td><td>1</td><td>2</td><td>120</td><td>284</td><td>0</td><td>2</td><td>160</td><td>0</td><td>1.8</td><td>2</td><td>0</td><td>3</td><td>1</td><td> TRUE</td></tr>\n",
       "\t<tr><td>58</td><td>1</td><td>3</td><td>132</td><td>224</td><td>0</td><td>2</td><td>173</td><td>0</td><td>3.2</td><td>1</td><td>2</td><td>7</td><td>3</td><td> TRUE</td></tr>\n",
       "\t<tr><td>60</td><td>1</td><td>4</td><td>130</td><td>206</td><td>0</td><td>2</td><td>132</td><td>1</td><td>2.4</td><td>2</td><td>2</td><td>7</td><td>4</td><td> TRUE</td></tr>\n",
       "\t<tr><td>50</td><td>0</td><td>3</td><td>120</td><td>219</td><td>0</td><td>0</td><td>158</td><td>0</td><td>1.6</td><td>2</td><td>0</td><td>3</td><td>0</td><td>FALSE</td></tr>\n",
       "\t<tr><td>58</td><td>0</td><td>3</td><td>120</td><td>340</td><td>0</td><td>0</td><td>172</td><td>0</td><td>0.0</td><td>1</td><td>0</td><td>3</td><td>0</td><td>FALSE</td></tr>\n",
       "\t<tr><td>60</td><td>1</td><td>4</td><td>117</td><td>230</td><td>1</td><td>0</td><td>160</td><td>1</td><td>1.4</td><td>1</td><td>2</td><td>7</td><td>2</td><td> TRUE</td></tr>\n",
       "\t<tr><td>64</td><td>1</td><td>3</td><td>140</td><td>335</td><td>0</td><td>0</td><td>158</td><td>0</td><td>0.0</td><td>1</td><td>0</td><td>3</td><td>1</td><td> TRUE</td></tr>\n",
       "\t<tr><td>59</td><td>1</td><td>4</td><td>135</td><td>234</td><td>0</td><td>0</td><td>161</td><td>0</td><td>0.5</td><td>2</td><td>0</td><td>7</td><td>0</td><td>FALSE</td></tr>\n",
       "\t<tr><td>42</td><td>1</td><td>4</td><td>140</td><td>226</td><td>0</td><td>0</td><td>178</td><td>0</td><td>0.0</td><td>1</td><td>0</td><td>3</td><td>0</td><td>FALSE</td></tr>\n",
       "\t<tr><td>43</td><td>1</td><td>4</td><td>120</td><td>177</td><td>0</td><td>2</td><td>120</td><td>1</td><td>2.5</td><td>2</td><td>0</td><td>7</td><td>3</td><td> TRUE</td></tr>\n",
       "\t<tr><td>65</td><td>0</td><td>4</td><td>150</td><td>225</td><td>0</td><td>2</td><td>114</td><td>0</td><td>1.0</td><td>2</td><td>3</td><td>7</td><td>4</td><td> TRUE</td></tr>\n",
       "\t<tr><td>⋮</td><td>⋮</td><td>⋮</td><td>⋮</td><td>⋮</td><td>⋮</td><td>⋮</td><td>⋮</td><td>⋮</td><td>⋮</td><td>⋮</td><td>⋮</td><td>⋮</td><td>⋮</td><td>⋮</td></tr>\n",
       "\t<tr><td>59</td><td>1</td><td>3</td><td>126</td><td>218</td><td>1</td><td>0</td><td>134</td><td>0</td><td>2.2</td><td>2</td><td> 1</td><td>6</td><td>2</td><td> TRUE</td></tr>\n",
       "\t<tr><td>40</td><td>1</td><td>4</td><td>152</td><td>223</td><td>0</td><td>0</td><td>181</td><td>0</td><td>0.0</td><td>1</td><td> 0</td><td>7</td><td>1</td><td> TRUE</td></tr>\n",
       "\t<tr><td>42</td><td>1</td><td>3</td><td>130</td><td>180</td><td>0</td><td>0</td><td>150</td><td>0</td><td>0.0</td><td>1</td><td> 0</td><td>3</td><td>0</td><td>FALSE</td></tr>\n",
       "\t<tr><td>61</td><td>1</td><td>4</td><td>140</td><td>207</td><td>0</td><td>2</td><td>138</td><td>1</td><td>1.9</td><td>1</td><td> 1</td><td>7</td><td>1</td><td> TRUE</td></tr>\n",
       "\t<tr><td>66</td><td>1</td><td>4</td><td>160</td><td>228</td><td>0</td><td>2</td><td>138</td><td>0</td><td>2.3</td><td>1</td><td> 0</td><td>6</td><td>0</td><td>FALSE</td></tr>\n",
       "\t<tr><td>46</td><td>1</td><td>4</td><td>140</td><td>311</td><td>0</td><td>0</td><td>120</td><td>1</td><td>1.8</td><td>2</td><td> 2</td><td>7</td><td>2</td><td> TRUE</td></tr>\n",
       "\t<tr><td>71</td><td>0</td><td>4</td><td>112</td><td>149</td><td>0</td><td>0</td><td>125</td><td>0</td><td>1.6</td><td>2</td><td> 0</td><td>3</td><td>0</td><td>FALSE</td></tr>\n",
       "\t<tr><td>59</td><td>1</td><td>1</td><td>134</td><td>204</td><td>0</td><td>0</td><td>162</td><td>0</td><td>0.8</td><td>1</td><td> 2</td><td>3</td><td>1</td><td> TRUE</td></tr>\n",
       "\t<tr><td>64</td><td>1</td><td>1</td><td>170</td><td>227</td><td>0</td><td>2</td><td>155</td><td>0</td><td>0.6</td><td>2</td><td> 0</td><td>7</td><td>0</td><td>FALSE</td></tr>\n",
       "\t<tr><td>66</td><td>0</td><td>3</td><td>146</td><td>278</td><td>0</td><td>2</td><td>152</td><td>0</td><td>0.0</td><td>2</td><td> 1</td><td>3</td><td>0</td><td>FALSE</td></tr>\n",
       "\t<tr><td>39</td><td>0</td><td>3</td><td>138</td><td>220</td><td>0</td><td>0</td><td>152</td><td>0</td><td>0.0</td><td>2</td><td> 0</td><td>3</td><td>0</td><td>FALSE</td></tr>\n",
       "\t<tr><td>58</td><td>0</td><td>4</td><td>130</td><td>197</td><td>0</td><td>0</td><td>131</td><td>0</td><td>0.6</td><td>2</td><td> 0</td><td>3</td><td>0</td><td>FALSE</td></tr>\n",
       "\t<tr><td>55</td><td>0</td><td>4</td><td>128</td><td>205</td><td>0</td><td>1</td><td>130</td><td>1</td><td>2.0</td><td>2</td><td> 1</td><td>7</td><td>3</td><td> TRUE</td></tr>\n",
       "\t<tr><td>35</td><td>1</td><td>2</td><td>122</td><td>192</td><td>0</td><td>0</td><td>174</td><td>0</td><td>0.0</td><td>1</td><td> 0</td><td>3</td><td>0</td><td>FALSE</td></tr>\n",
       "\t<tr><td>61</td><td>1</td><td>4</td><td>148</td><td>203</td><td>0</td><td>0</td><td>161</td><td>0</td><td>0.0</td><td>1</td><td> 1</td><td>7</td><td>2</td><td> TRUE</td></tr>\n",
       "\t<tr><td>58</td><td>1</td><td>4</td><td>114</td><td>318</td><td>0</td><td>1</td><td>140</td><td>0</td><td>4.4</td><td>3</td><td> 3</td><td>6</td><td>4</td><td> TRUE</td></tr>\n",
       "\t<tr><td>58</td><td>0</td><td>4</td><td>170</td><td>225</td><td>1</td><td>2</td><td>146</td><td>1</td><td>2.8</td><td>2</td><td> 2</td><td>6</td><td>2</td><td> TRUE</td></tr>\n",
       "\t<tr><td>58</td><td>1</td><td>2</td><td>125</td><td>220</td><td>0</td><td>0</td><td>144</td><td>0</td><td>0.4</td><td>2</td><td>NA</td><td>7</td><td>0</td><td>FALSE</td></tr>\n",
       "\t<tr><td>56</td><td>1</td><td>2</td><td>130</td><td>221</td><td>0</td><td>2</td><td>163</td><td>0</td><td>0.0</td><td>1</td><td> 0</td><td>7</td><td>0</td><td>FALSE</td></tr>\n",
       "\t<tr><td>56</td><td>1</td><td>2</td><td>120</td><td>240</td><td>0</td><td>0</td><td>169</td><td>0</td><td>0.0</td><td>3</td><td> 0</td><td>3</td><td>0</td><td>FALSE</td></tr>\n",
       "\t<tr><td>55</td><td>0</td><td>2</td><td>132</td><td>342</td><td>0</td><td>0</td><td>166</td><td>0</td><td>1.2</td><td>1</td><td> 0</td><td>3</td><td>0</td><td>FALSE</td></tr>\n",
       "\t<tr><td>63</td><td>1</td><td>4</td><td>140</td><td>187</td><td>0</td><td>2</td><td>144</td><td>1</td><td>4.0</td><td>1</td><td> 2</td><td>7</td><td>2</td><td> TRUE</td></tr>\n",
       "\t<tr><td>63</td><td>0</td><td>4</td><td>124</td><td>197</td><td>0</td><td>0</td><td>136</td><td>1</td><td>0.0</td><td>2</td><td> 0</td><td>3</td><td>1</td><td> TRUE</td></tr>\n",
       "\t<tr><td>41</td><td>1</td><td>2</td><td>120</td><td>157</td><td>0</td><td>0</td><td>182</td><td>0</td><td>0.0</td><td>1</td><td> 0</td><td>3</td><td>0</td><td>FALSE</td></tr>\n",
       "\t<tr><td>59</td><td>1</td><td>4</td><td>164</td><td>176</td><td>1</td><td>2</td><td> 90</td><td>0</td><td>1.0</td><td>2</td><td> 2</td><td>6</td><td>3</td><td> TRUE</td></tr>\n",
       "\t<tr><td>57</td><td>0</td><td>4</td><td>140</td><td>241</td><td>0</td><td>0</td><td>123</td><td>1</td><td>0.2</td><td>2</td><td> 0</td><td>7</td><td>1</td><td> TRUE</td></tr>\n",
       "\t<tr><td>45</td><td>1</td><td>1</td><td>110</td><td>264</td><td>0</td><td>0</td><td>132</td><td>0</td><td>1.2</td><td>2</td><td> 0</td><td>7</td><td>1</td><td> TRUE</td></tr>\n",
       "\t<tr><td>68</td><td>1</td><td>4</td><td>144</td><td>193</td><td>1</td><td>0</td><td>141</td><td>0</td><td>3.4</td><td>2</td><td> 2</td><td>7</td><td>2</td><td> TRUE</td></tr>\n",
       "\t<tr><td>57</td><td>1</td><td>4</td><td>130</td><td>131</td><td>0</td><td>0</td><td>115</td><td>1</td><td>1.2</td><td>2</td><td> 1</td><td>7</td><td>3</td><td> TRUE</td></tr>\n",
       "\t<tr><td>57</td><td>0</td><td>2</td><td>130</td><td>236</td><td>0</td><td>2</td><td>174</td><td>0</td><td>0.0</td><td>2</td><td> 1</td><td>3</td><td>1</td><td> TRUE</td></tr>\n",
       "</tbody>\n",
       "</table>\n"
      ],
      "text/latex": [
       "A tibble: 229 × 15\n",
       "\\begin{tabular}{lllllllllllllll}\n",
       " age & sex & cp & trestbps & chol & fbs & restecg & thalach & exang & oldpeak & slope & ca & thal & num & hasdisease\\\\\n",
       " <dbl> & <fct> & <fct> & <dbl> & <dbl> & <fct> & <fct> & <dbl> & <fct> & <dbl> & <fct> & <int> & <fct> & <fct> & <lgl>\\\\\n",
       "\\hline\n",
       "\t 63 & 1 & 1 & 145 & 233 & 1 & 2 & 150 & 0 & 2.3 & 3 & 0 & 6 & 0 & FALSE\\\\\n",
       "\t 67 & 1 & 4 & 160 & 286 & 0 & 2 & 108 & 1 & 1.5 & 2 & 3 & 3 & 2 &  TRUE\\\\\n",
       "\t 67 & 1 & 4 & 120 & 229 & 0 & 2 & 129 & 1 & 2.6 & 2 & 2 & 7 & 1 &  TRUE\\\\\n",
       "\t 41 & 0 & 2 & 130 & 204 & 0 & 2 & 172 & 0 & 1.4 & 1 & 0 & 3 & 0 & FALSE\\\\\n",
       "\t 56 & 1 & 2 & 120 & 236 & 0 & 0 & 178 & 0 & 0.8 & 1 & 0 & 3 & 0 & FALSE\\\\\n",
       "\t 62 & 0 & 4 & 140 & 268 & 0 & 2 & 160 & 0 & 3.6 & 3 & 2 & 3 & 3 &  TRUE\\\\\n",
       "\t 57 & 0 & 4 & 120 & 354 & 0 & 0 & 163 & 1 & 0.6 & 1 & 0 & 3 & 0 & FALSE\\\\\n",
       "\t 63 & 1 & 4 & 130 & 254 & 0 & 2 & 147 & 0 & 1.4 & 2 & 1 & 7 & 2 &  TRUE\\\\\n",
       "\t 53 & 1 & 4 & 140 & 203 & 1 & 2 & 155 & 1 & 3.1 & 3 & 0 & 7 & 1 &  TRUE\\\\\n",
       "\t 56 & 0 & 2 & 140 & 294 & 0 & 2 & 153 & 0 & 1.3 & 2 & 0 & 3 & 0 & FALSE\\\\\n",
       "\t 56 & 1 & 3 & 130 & 256 & 1 & 2 & 142 & 1 & 0.6 & 2 & 1 & 6 & 2 &  TRUE\\\\\n",
       "\t 44 & 1 & 2 & 120 & 263 & 0 & 0 & 173 & 0 & 0.0 & 1 & 0 & 7 & 0 & FALSE\\\\\n",
       "\t 52 & 1 & 3 & 172 & 199 & 1 & 0 & 162 & 0 & 0.5 & 1 & 0 & 7 & 0 & FALSE\\\\\n",
       "\t 48 & 1 & 2 & 110 & 229 & 0 & 0 & 168 & 0 & 1.0 & 3 & 0 & 7 & 1 &  TRUE\\\\\n",
       "\t 54 & 1 & 4 & 140 & 239 & 0 & 0 & 160 & 0 & 1.2 & 1 & 0 & 3 & 0 & FALSE\\\\\n",
       "\t 48 & 0 & 3 & 130 & 275 & 0 & 0 & 139 & 0 & 0.2 & 1 & 0 & 3 & 0 & FALSE\\\\\n",
       "\t 49 & 1 & 2 & 130 & 266 & 0 & 0 & 171 & 0 & 0.6 & 1 & 0 & 3 & 0 & FALSE\\\\\n",
       "\t 64 & 1 & 1 & 110 & 211 & 0 & 2 & 144 & 1 & 1.8 & 2 & 0 & 3 & 0 & FALSE\\\\\n",
       "\t 58 & 0 & 1 & 150 & 283 & 1 & 2 & 162 & 0 & 1.0 & 1 & 0 & 3 & 0 & FALSE\\\\\n",
       "\t 58 & 1 & 2 & 120 & 284 & 0 & 2 & 160 & 0 & 1.8 & 2 & 0 & 3 & 1 &  TRUE\\\\\n",
       "\t 58 & 1 & 3 & 132 & 224 & 0 & 2 & 173 & 0 & 3.2 & 1 & 2 & 7 & 3 &  TRUE\\\\\n",
       "\t 60 & 1 & 4 & 130 & 206 & 0 & 2 & 132 & 1 & 2.4 & 2 & 2 & 7 & 4 &  TRUE\\\\\n",
       "\t 50 & 0 & 3 & 120 & 219 & 0 & 0 & 158 & 0 & 1.6 & 2 & 0 & 3 & 0 & FALSE\\\\\n",
       "\t 58 & 0 & 3 & 120 & 340 & 0 & 0 & 172 & 0 & 0.0 & 1 & 0 & 3 & 0 & FALSE\\\\\n",
       "\t 60 & 1 & 4 & 117 & 230 & 1 & 0 & 160 & 1 & 1.4 & 1 & 2 & 7 & 2 &  TRUE\\\\\n",
       "\t 64 & 1 & 3 & 140 & 335 & 0 & 0 & 158 & 0 & 0.0 & 1 & 0 & 3 & 1 &  TRUE\\\\\n",
       "\t 59 & 1 & 4 & 135 & 234 & 0 & 0 & 161 & 0 & 0.5 & 2 & 0 & 7 & 0 & FALSE\\\\\n",
       "\t 42 & 1 & 4 & 140 & 226 & 0 & 0 & 178 & 0 & 0.0 & 1 & 0 & 3 & 0 & FALSE\\\\\n",
       "\t 43 & 1 & 4 & 120 & 177 & 0 & 2 & 120 & 1 & 2.5 & 2 & 0 & 7 & 3 &  TRUE\\\\\n",
       "\t 65 & 0 & 4 & 150 & 225 & 0 & 2 & 114 & 0 & 1.0 & 2 & 3 & 7 & 4 &  TRUE\\\\\n",
       "\t ⋮ & ⋮ & ⋮ & ⋮ & ⋮ & ⋮ & ⋮ & ⋮ & ⋮ & ⋮ & ⋮ & ⋮ & ⋮ & ⋮ & ⋮\\\\\n",
       "\t 59 & 1 & 3 & 126 & 218 & 1 & 0 & 134 & 0 & 2.2 & 2 &  1 & 6 & 2 &  TRUE\\\\\n",
       "\t 40 & 1 & 4 & 152 & 223 & 0 & 0 & 181 & 0 & 0.0 & 1 &  0 & 7 & 1 &  TRUE\\\\\n",
       "\t 42 & 1 & 3 & 130 & 180 & 0 & 0 & 150 & 0 & 0.0 & 1 &  0 & 3 & 0 & FALSE\\\\\n",
       "\t 61 & 1 & 4 & 140 & 207 & 0 & 2 & 138 & 1 & 1.9 & 1 &  1 & 7 & 1 &  TRUE\\\\\n",
       "\t 66 & 1 & 4 & 160 & 228 & 0 & 2 & 138 & 0 & 2.3 & 1 &  0 & 6 & 0 & FALSE\\\\\n",
       "\t 46 & 1 & 4 & 140 & 311 & 0 & 0 & 120 & 1 & 1.8 & 2 &  2 & 7 & 2 &  TRUE\\\\\n",
       "\t 71 & 0 & 4 & 112 & 149 & 0 & 0 & 125 & 0 & 1.6 & 2 &  0 & 3 & 0 & FALSE\\\\\n",
       "\t 59 & 1 & 1 & 134 & 204 & 0 & 0 & 162 & 0 & 0.8 & 1 &  2 & 3 & 1 &  TRUE\\\\\n",
       "\t 64 & 1 & 1 & 170 & 227 & 0 & 2 & 155 & 0 & 0.6 & 2 &  0 & 7 & 0 & FALSE\\\\\n",
       "\t 66 & 0 & 3 & 146 & 278 & 0 & 2 & 152 & 0 & 0.0 & 2 &  1 & 3 & 0 & FALSE\\\\\n",
       "\t 39 & 0 & 3 & 138 & 220 & 0 & 0 & 152 & 0 & 0.0 & 2 &  0 & 3 & 0 & FALSE\\\\\n",
       "\t 58 & 0 & 4 & 130 & 197 & 0 & 0 & 131 & 0 & 0.6 & 2 &  0 & 3 & 0 & FALSE\\\\\n",
       "\t 55 & 0 & 4 & 128 & 205 & 0 & 1 & 130 & 1 & 2.0 & 2 &  1 & 7 & 3 &  TRUE\\\\\n",
       "\t 35 & 1 & 2 & 122 & 192 & 0 & 0 & 174 & 0 & 0.0 & 1 &  0 & 3 & 0 & FALSE\\\\\n",
       "\t 61 & 1 & 4 & 148 & 203 & 0 & 0 & 161 & 0 & 0.0 & 1 &  1 & 7 & 2 &  TRUE\\\\\n",
       "\t 58 & 1 & 4 & 114 & 318 & 0 & 1 & 140 & 0 & 4.4 & 3 &  3 & 6 & 4 &  TRUE\\\\\n",
       "\t 58 & 0 & 4 & 170 & 225 & 1 & 2 & 146 & 1 & 2.8 & 2 &  2 & 6 & 2 &  TRUE\\\\\n",
       "\t 58 & 1 & 2 & 125 & 220 & 0 & 0 & 144 & 0 & 0.4 & 2 & NA & 7 & 0 & FALSE\\\\\n",
       "\t 56 & 1 & 2 & 130 & 221 & 0 & 2 & 163 & 0 & 0.0 & 1 &  0 & 7 & 0 & FALSE\\\\\n",
       "\t 56 & 1 & 2 & 120 & 240 & 0 & 0 & 169 & 0 & 0.0 & 3 &  0 & 3 & 0 & FALSE\\\\\n",
       "\t 55 & 0 & 2 & 132 & 342 & 0 & 0 & 166 & 0 & 1.2 & 1 &  0 & 3 & 0 & FALSE\\\\\n",
       "\t 63 & 1 & 4 & 140 & 187 & 0 & 2 & 144 & 1 & 4.0 & 1 &  2 & 7 & 2 &  TRUE\\\\\n",
       "\t 63 & 0 & 4 & 124 & 197 & 0 & 0 & 136 & 1 & 0.0 & 2 &  0 & 3 & 1 &  TRUE\\\\\n",
       "\t 41 & 1 & 2 & 120 & 157 & 0 & 0 & 182 & 0 & 0.0 & 1 &  0 & 3 & 0 & FALSE\\\\\n",
       "\t 59 & 1 & 4 & 164 & 176 & 1 & 2 &  90 & 0 & 1.0 & 2 &  2 & 6 & 3 &  TRUE\\\\\n",
       "\t 57 & 0 & 4 & 140 & 241 & 0 & 0 & 123 & 1 & 0.2 & 2 &  0 & 7 & 1 &  TRUE\\\\\n",
       "\t 45 & 1 & 1 & 110 & 264 & 0 & 0 & 132 & 0 & 1.2 & 2 &  0 & 7 & 1 &  TRUE\\\\\n",
       "\t 68 & 1 & 4 & 144 & 193 & 1 & 0 & 141 & 0 & 3.4 & 2 &  2 & 7 & 2 &  TRUE\\\\\n",
       "\t 57 & 1 & 4 & 130 & 131 & 0 & 0 & 115 & 1 & 1.2 & 2 &  1 & 7 & 3 &  TRUE\\\\\n",
       "\t 57 & 0 & 2 & 130 & 236 & 0 & 2 & 174 & 0 & 0.0 & 2 &  1 & 3 & 1 &  TRUE\\\\\n",
       "\\end{tabular}\n"
      ],
      "text/markdown": [
       "\n",
       "A tibble: 229 × 15\n",
       "\n",
       "| age &lt;dbl&gt; | sex &lt;fct&gt; | cp &lt;fct&gt; | trestbps &lt;dbl&gt; | chol &lt;dbl&gt; | fbs &lt;fct&gt; | restecg &lt;fct&gt; | thalach &lt;dbl&gt; | exang &lt;fct&gt; | oldpeak &lt;dbl&gt; | slope &lt;fct&gt; | ca &lt;int&gt; | thal &lt;fct&gt; | num &lt;fct&gt; | hasdisease &lt;lgl&gt; |\n",
       "|---|---|---|---|---|---|---|---|---|---|---|---|---|---|---|\n",
       "| 63 | 1 | 1 | 145 | 233 | 1 | 2 | 150 | 0 | 2.3 | 3 | 0 | 6 | 0 | FALSE |\n",
       "| 67 | 1 | 4 | 160 | 286 | 0 | 2 | 108 | 1 | 1.5 | 2 | 3 | 3 | 2 |  TRUE |\n",
       "| 67 | 1 | 4 | 120 | 229 | 0 | 2 | 129 | 1 | 2.6 | 2 | 2 | 7 | 1 |  TRUE |\n",
       "| 41 | 0 | 2 | 130 | 204 | 0 | 2 | 172 | 0 | 1.4 | 1 | 0 | 3 | 0 | FALSE |\n",
       "| 56 | 1 | 2 | 120 | 236 | 0 | 0 | 178 | 0 | 0.8 | 1 | 0 | 3 | 0 | FALSE |\n",
       "| 62 | 0 | 4 | 140 | 268 | 0 | 2 | 160 | 0 | 3.6 | 3 | 2 | 3 | 3 |  TRUE |\n",
       "| 57 | 0 | 4 | 120 | 354 | 0 | 0 | 163 | 1 | 0.6 | 1 | 0 | 3 | 0 | FALSE |\n",
       "| 63 | 1 | 4 | 130 | 254 | 0 | 2 | 147 | 0 | 1.4 | 2 | 1 | 7 | 2 |  TRUE |\n",
       "| 53 | 1 | 4 | 140 | 203 | 1 | 2 | 155 | 1 | 3.1 | 3 | 0 | 7 | 1 |  TRUE |\n",
       "| 56 | 0 | 2 | 140 | 294 | 0 | 2 | 153 | 0 | 1.3 | 2 | 0 | 3 | 0 | FALSE |\n",
       "| 56 | 1 | 3 | 130 | 256 | 1 | 2 | 142 | 1 | 0.6 | 2 | 1 | 6 | 2 |  TRUE |\n",
       "| 44 | 1 | 2 | 120 | 263 | 0 | 0 | 173 | 0 | 0.0 | 1 | 0 | 7 | 0 | FALSE |\n",
       "| 52 | 1 | 3 | 172 | 199 | 1 | 0 | 162 | 0 | 0.5 | 1 | 0 | 7 | 0 | FALSE |\n",
       "| 48 | 1 | 2 | 110 | 229 | 0 | 0 | 168 | 0 | 1.0 | 3 | 0 | 7 | 1 |  TRUE |\n",
       "| 54 | 1 | 4 | 140 | 239 | 0 | 0 | 160 | 0 | 1.2 | 1 | 0 | 3 | 0 | FALSE |\n",
       "| 48 | 0 | 3 | 130 | 275 | 0 | 0 | 139 | 0 | 0.2 | 1 | 0 | 3 | 0 | FALSE |\n",
       "| 49 | 1 | 2 | 130 | 266 | 0 | 0 | 171 | 0 | 0.6 | 1 | 0 | 3 | 0 | FALSE |\n",
       "| 64 | 1 | 1 | 110 | 211 | 0 | 2 | 144 | 1 | 1.8 | 2 | 0 | 3 | 0 | FALSE |\n",
       "| 58 | 0 | 1 | 150 | 283 | 1 | 2 | 162 | 0 | 1.0 | 1 | 0 | 3 | 0 | FALSE |\n",
       "| 58 | 1 | 2 | 120 | 284 | 0 | 2 | 160 | 0 | 1.8 | 2 | 0 | 3 | 1 |  TRUE |\n",
       "| 58 | 1 | 3 | 132 | 224 | 0 | 2 | 173 | 0 | 3.2 | 1 | 2 | 7 | 3 |  TRUE |\n",
       "| 60 | 1 | 4 | 130 | 206 | 0 | 2 | 132 | 1 | 2.4 | 2 | 2 | 7 | 4 |  TRUE |\n",
       "| 50 | 0 | 3 | 120 | 219 | 0 | 0 | 158 | 0 | 1.6 | 2 | 0 | 3 | 0 | FALSE |\n",
       "| 58 | 0 | 3 | 120 | 340 | 0 | 0 | 172 | 0 | 0.0 | 1 | 0 | 3 | 0 | FALSE |\n",
       "| 60 | 1 | 4 | 117 | 230 | 1 | 0 | 160 | 1 | 1.4 | 1 | 2 | 7 | 2 |  TRUE |\n",
       "| 64 | 1 | 3 | 140 | 335 | 0 | 0 | 158 | 0 | 0.0 | 1 | 0 | 3 | 1 |  TRUE |\n",
       "| 59 | 1 | 4 | 135 | 234 | 0 | 0 | 161 | 0 | 0.5 | 2 | 0 | 7 | 0 | FALSE |\n",
       "| 42 | 1 | 4 | 140 | 226 | 0 | 0 | 178 | 0 | 0.0 | 1 | 0 | 3 | 0 | FALSE |\n",
       "| 43 | 1 | 4 | 120 | 177 | 0 | 2 | 120 | 1 | 2.5 | 2 | 0 | 7 | 3 |  TRUE |\n",
       "| 65 | 0 | 4 | 150 | 225 | 0 | 2 | 114 | 0 | 1.0 | 2 | 3 | 7 | 4 |  TRUE |\n",
       "| ⋮ | ⋮ | ⋮ | ⋮ | ⋮ | ⋮ | ⋮ | ⋮ | ⋮ | ⋮ | ⋮ | ⋮ | ⋮ | ⋮ | ⋮ |\n",
       "| 59 | 1 | 3 | 126 | 218 | 1 | 0 | 134 | 0 | 2.2 | 2 |  1 | 6 | 2 |  TRUE |\n",
       "| 40 | 1 | 4 | 152 | 223 | 0 | 0 | 181 | 0 | 0.0 | 1 |  0 | 7 | 1 |  TRUE |\n",
       "| 42 | 1 | 3 | 130 | 180 | 0 | 0 | 150 | 0 | 0.0 | 1 |  0 | 3 | 0 | FALSE |\n",
       "| 61 | 1 | 4 | 140 | 207 | 0 | 2 | 138 | 1 | 1.9 | 1 |  1 | 7 | 1 |  TRUE |\n",
       "| 66 | 1 | 4 | 160 | 228 | 0 | 2 | 138 | 0 | 2.3 | 1 |  0 | 6 | 0 | FALSE |\n",
       "| 46 | 1 | 4 | 140 | 311 | 0 | 0 | 120 | 1 | 1.8 | 2 |  2 | 7 | 2 |  TRUE |\n",
       "| 71 | 0 | 4 | 112 | 149 | 0 | 0 | 125 | 0 | 1.6 | 2 |  0 | 3 | 0 | FALSE |\n",
       "| 59 | 1 | 1 | 134 | 204 | 0 | 0 | 162 | 0 | 0.8 | 1 |  2 | 3 | 1 |  TRUE |\n",
       "| 64 | 1 | 1 | 170 | 227 | 0 | 2 | 155 | 0 | 0.6 | 2 |  0 | 7 | 0 | FALSE |\n",
       "| 66 | 0 | 3 | 146 | 278 | 0 | 2 | 152 | 0 | 0.0 | 2 |  1 | 3 | 0 | FALSE |\n",
       "| 39 | 0 | 3 | 138 | 220 | 0 | 0 | 152 | 0 | 0.0 | 2 |  0 | 3 | 0 | FALSE |\n",
       "| 58 | 0 | 4 | 130 | 197 | 0 | 0 | 131 | 0 | 0.6 | 2 |  0 | 3 | 0 | FALSE |\n",
       "| 55 | 0 | 4 | 128 | 205 | 0 | 1 | 130 | 1 | 2.0 | 2 |  1 | 7 | 3 |  TRUE |\n",
       "| 35 | 1 | 2 | 122 | 192 | 0 | 0 | 174 | 0 | 0.0 | 1 |  0 | 3 | 0 | FALSE |\n",
       "| 61 | 1 | 4 | 148 | 203 | 0 | 0 | 161 | 0 | 0.0 | 1 |  1 | 7 | 2 |  TRUE |\n",
       "| 58 | 1 | 4 | 114 | 318 | 0 | 1 | 140 | 0 | 4.4 | 3 |  3 | 6 | 4 |  TRUE |\n",
       "| 58 | 0 | 4 | 170 | 225 | 1 | 2 | 146 | 1 | 2.8 | 2 |  2 | 6 | 2 |  TRUE |\n",
       "| 58 | 1 | 2 | 125 | 220 | 0 | 0 | 144 | 0 | 0.4 | 2 | NA | 7 | 0 | FALSE |\n",
       "| 56 | 1 | 2 | 130 | 221 | 0 | 2 | 163 | 0 | 0.0 | 1 |  0 | 7 | 0 | FALSE |\n",
       "| 56 | 1 | 2 | 120 | 240 | 0 | 0 | 169 | 0 | 0.0 | 3 |  0 | 3 | 0 | FALSE |\n",
       "| 55 | 0 | 2 | 132 | 342 | 0 | 0 | 166 | 0 | 1.2 | 1 |  0 | 3 | 0 | FALSE |\n",
       "| 63 | 1 | 4 | 140 | 187 | 0 | 2 | 144 | 1 | 4.0 | 1 |  2 | 7 | 2 |  TRUE |\n",
       "| 63 | 0 | 4 | 124 | 197 | 0 | 0 | 136 | 1 | 0.0 | 2 |  0 | 3 | 1 |  TRUE |\n",
       "| 41 | 1 | 2 | 120 | 157 | 0 | 0 | 182 | 0 | 0.0 | 1 |  0 | 3 | 0 | FALSE |\n",
       "| 59 | 1 | 4 | 164 | 176 | 1 | 2 |  90 | 0 | 1.0 | 2 |  2 | 6 | 3 |  TRUE |\n",
       "| 57 | 0 | 4 | 140 | 241 | 0 | 0 | 123 | 1 | 0.2 | 2 |  0 | 7 | 1 |  TRUE |\n",
       "| 45 | 1 | 1 | 110 | 264 | 0 | 0 | 132 | 0 | 1.2 | 2 |  0 | 7 | 1 |  TRUE |\n",
       "| 68 | 1 | 4 | 144 | 193 | 1 | 0 | 141 | 0 | 3.4 | 2 |  2 | 7 | 2 |  TRUE |\n",
       "| 57 | 1 | 4 | 130 | 131 | 0 | 0 | 115 | 1 | 1.2 | 2 |  1 | 7 | 3 |  TRUE |\n",
       "| 57 | 0 | 2 | 130 | 236 | 0 | 2 | 174 | 0 | 0.0 | 2 |  1 | 3 | 1 |  TRUE |\n",
       "\n"
      ],
      "text/plain": [
       "    age sex cp trestbps chol fbs restecg thalach exang oldpeak slope ca thal\n",
       "1   63  1   1  145      233  1   2       150     0     2.3     3     0  6   \n",
       "2   67  1   4  160      286  0   2       108     1     1.5     2     3  3   \n",
       "3   67  1   4  120      229  0   2       129     1     2.6     2     2  7   \n",
       "4   41  0   2  130      204  0   2       172     0     1.4     1     0  3   \n",
       "5   56  1   2  120      236  0   0       178     0     0.8     1     0  3   \n",
       "6   62  0   4  140      268  0   2       160     0     3.6     3     2  3   \n",
       "7   57  0   4  120      354  0   0       163     1     0.6     1     0  3   \n",
       "8   63  1   4  130      254  0   2       147     0     1.4     2     1  7   \n",
       "9   53  1   4  140      203  1   2       155     1     3.1     3     0  7   \n",
       "10  56  0   2  140      294  0   2       153     0     1.3     2     0  3   \n",
       "11  56  1   3  130      256  1   2       142     1     0.6     2     1  6   \n",
       "12  44  1   2  120      263  0   0       173     0     0.0     1     0  7   \n",
       "13  52  1   3  172      199  1   0       162     0     0.5     1     0  7   \n",
       "14  48  1   2  110      229  0   0       168     0     1.0     3     0  7   \n",
       "15  54  1   4  140      239  0   0       160     0     1.2     1     0  3   \n",
       "16  48  0   3  130      275  0   0       139     0     0.2     1     0  3   \n",
       "17  49  1   2  130      266  0   0       171     0     0.6     1     0  3   \n",
       "18  64  1   1  110      211  0   2       144     1     1.8     2     0  3   \n",
       "19  58  0   1  150      283  1   2       162     0     1.0     1     0  3   \n",
       "20  58  1   2  120      284  0   2       160     0     1.8     2     0  3   \n",
       "21  58  1   3  132      224  0   2       173     0     3.2     1     2  7   \n",
       "22  60  1   4  130      206  0   2       132     1     2.4     2     2  7   \n",
       "23  50  0   3  120      219  0   0       158     0     1.6     2     0  3   \n",
       "24  58  0   3  120      340  0   0       172     0     0.0     1     0  3   \n",
       "25  60  1   4  117      230  1   0       160     1     1.4     1     2  7   \n",
       "26  64  1   3  140      335  0   0       158     0     0.0     1     0  3   \n",
       "27  59  1   4  135      234  0   0       161     0     0.5     2     0  7   \n",
       "28  42  1   4  140      226  0   0       178     0     0.0     1     0  3   \n",
       "29  43  1   4  120      177  0   2       120     1     2.5     2     0  7   \n",
       "30  65  0   4  150      225  0   2       114     0     1.0     2     3  7   \n",
       "⋮   ⋮   ⋮   ⋮  ⋮        ⋮    ⋮   ⋮       ⋮       ⋮     ⋮       ⋮     ⋮  ⋮   \n",
       "200 59  1   3  126      218  1   0       134     0     2.2     2      1 6   \n",
       "201 40  1   4  152      223  0   0       181     0     0.0     1      0 7   \n",
       "202 42  1   3  130      180  0   0       150     0     0.0     1      0 3   \n",
       "203 61  1   4  140      207  0   2       138     1     1.9     1      1 7   \n",
       "204 66  1   4  160      228  0   2       138     0     2.3     1      0 6   \n",
       "205 46  1   4  140      311  0   0       120     1     1.8     2      2 7   \n",
       "206 71  0   4  112      149  0   0       125     0     1.6     2      0 3   \n",
       "207 59  1   1  134      204  0   0       162     0     0.8     1      2 3   \n",
       "208 64  1   1  170      227  0   2       155     0     0.6     2      0 7   \n",
       "209 66  0   3  146      278  0   2       152     0     0.0     2      1 3   \n",
       "210 39  0   3  138      220  0   0       152     0     0.0     2      0 3   \n",
       "211 58  0   4  130      197  0   0       131     0     0.6     2      0 3   \n",
       "212 55  0   4  128      205  0   1       130     1     2.0     2      1 7   \n",
       "213 35  1   2  122      192  0   0       174     0     0.0     1      0 3   \n",
       "214 61  1   4  148      203  0   0       161     0     0.0     1      1 7   \n",
       "215 58  1   4  114      318  0   1       140     0     4.4     3      3 6   \n",
       "216 58  0   4  170      225  1   2       146     1     2.8     2      2 6   \n",
       "217 58  1   2  125      220  0   0       144     0     0.4     2     NA 7   \n",
       "218 56  1   2  130      221  0   2       163     0     0.0     1      0 7   \n",
       "219 56  1   2  120      240  0   0       169     0     0.0     3      0 3   \n",
       "220 55  0   2  132      342  0   0       166     0     1.2     1      0 3   \n",
       "221 63  1   4  140      187  0   2       144     1     4.0     1      2 7   \n",
       "222 63  0   4  124      197  0   0       136     1     0.0     2      0 3   \n",
       "223 41  1   2  120      157  0   0       182     0     0.0     1      0 3   \n",
       "224 59  1   4  164      176  1   2        90     0     1.0     2      2 6   \n",
       "225 57  0   4  140      241  0   0       123     1     0.2     2      0 7   \n",
       "226 45  1   1  110      264  0   0       132     0     1.2     2      0 7   \n",
       "227 68  1   4  144      193  1   0       141     0     3.4     2      2 7   \n",
       "228 57  1   4  130      131  0   0       115     1     1.2     2      1 7   \n",
       "229 57  0   2  130      236  0   2       174     0     0.0     2      1 3   \n",
       "    num hasdisease\n",
       "1   0   FALSE     \n",
       "2   2    TRUE     \n",
       "3   1    TRUE     \n",
       "4   0   FALSE     \n",
       "5   0   FALSE     \n",
       "6   3    TRUE     \n",
       "7   0   FALSE     \n",
       "8   2    TRUE     \n",
       "9   1    TRUE     \n",
       "10  0   FALSE     \n",
       "11  2    TRUE     \n",
       "12  0   FALSE     \n",
       "13  0   FALSE     \n",
       "14  1    TRUE     \n",
       "15  0   FALSE     \n",
       "16  0   FALSE     \n",
       "17  0   FALSE     \n",
       "18  0   FALSE     \n",
       "19  0   FALSE     \n",
       "20  1    TRUE     \n",
       "21  3    TRUE     \n",
       "22  4    TRUE     \n",
       "23  0   FALSE     \n",
       "24  0   FALSE     \n",
       "25  2    TRUE     \n",
       "26  1    TRUE     \n",
       "27  0   FALSE     \n",
       "28  0   FALSE     \n",
       "29  3    TRUE     \n",
       "30  4    TRUE     \n",
       "⋮   ⋮   ⋮         \n",
       "200 2    TRUE     \n",
       "201 1    TRUE     \n",
       "202 0   FALSE     \n",
       "203 1    TRUE     \n",
       "204 0   FALSE     \n",
       "205 2    TRUE     \n",
       "206 0   FALSE     \n",
       "207 1    TRUE     \n",
       "208 0   FALSE     \n",
       "209 0   FALSE     \n",
       "210 0   FALSE     \n",
       "211 0   FALSE     \n",
       "212 3    TRUE     \n",
       "213 0   FALSE     \n",
       "214 2    TRUE     \n",
       "215 4    TRUE     \n",
       "216 2    TRUE     \n",
       "217 0   FALSE     \n",
       "218 0   FALSE     \n",
       "219 0   FALSE     \n",
       "220 0   FALSE     \n",
       "221 2    TRUE     \n",
       "222 1    TRUE     \n",
       "223 0   FALSE     \n",
       "224 3    TRUE     \n",
       "225 1    TRUE     \n",
       "226 1    TRUE     \n",
       "227 2    TRUE     \n",
       "228 3    TRUE     \n",
       "229 1    TRUE     "
      ]
     },
     "metadata": {},
     "output_type": "display_data"
    }
   ],
   "source": [
    "set.seed(15)\n",
    "cleveland_data <- read_csv(\"https://archive.ics.uci.edu/ml/machine-learning-databases/heart-disease/processed.cleveland.data\", col_names = FALSE) %>%\n",
    "    rename(\"age\" = X1,\n",
    "          \"sex\" = X2,\n",
    "          \"cp\" = X3, \n",
    "          \"trestbps\" = X4,\n",
    "          \"chol\" = X5, \n",
    "          \"fbs\" = X6,\n",
    "          \"restecg\" = X7, \n",
    "          \"thalach\" = X8,\n",
    "          \"exang\" = X9,\n",
    "          \"oldpeak\" = X10,\n",
    "          \"slope\" = X11,\n",
    "          \"ca\" = X12,\n",
    "          \"thal\" = X13,\n",
    "          \"num\" = X14) %>%\n",
    "    mutate(ca = as.double(ca), thal = as.double(thal), sex = as_factor(sex), num = as_factor(num), cp = as_factor(cp), fbs = as_factor(fbs), restecg = as_factor(restecg), exang = as_factor(exang), slope = as_factor(slope), ca = as.integer(ca), thal = as_factor(thal)) %>%\n",
    "    mutate(hasdisease = num != 0)\n",
    "\n",
    "heart_disease_split <- initial_split(cleveland_data, prop = 0.75, strata = num) %>%\n",
    "na.omit()\n",
    "heart_disease_train <- training(heart_disease_split)\n",
    "heart_disease_test <- testing(heart_disease_split)\n",
    "heart_disease_train\n"
   ]
  },
  {
   "cell_type": "markdown",
   "metadata": {},
   "source": [
    "___Patients at certain diagnosis levels of heart disease___}\n",
    "\n",
    "|    |Number of patients|\n",
    "|-----|-----|\n",
    "|Level 0 (no heart disease)|124|\n",
    "|Level 1|41|\n",
    "|Leve 2|27|\n",
    "|Level 3|28|\n",
    "|Level 4|9|\n",
    "|__Total__|__229__|\n",
    "\n",
    "__Patients with and without heart disease__\n",
    "\n",
    "|   |Number of patients|\n",
    "|----|-----|\n",
    "|without heart disease|124|\n",
    "|with heart disease| 105|\n"
   ]
  },
  {
   "cell_type": "markdown",
   "metadata": {},
   "source": [
    "Shown above is a summarized table of our data. We recorded the number of observations under each status of heart disease diagnosis. This was important to determine whether our training data had enough observations in each diagnosis of heart disease to base a model on. We realized that the number of observations for each individual diagnosis of heart disease (1-4) were minimal compared to the recordings of no heart disease (0). Because of this and the fact that the dataset describes that they were mostly focused on determining whether a patient had heart disease or not rather than gauging the status of heart disease diagnosis, we decided to classify all patients into only whether they have heart disease or not."
   ]
  },
  {
   "cell_type": "code",
   "execution_count": 4,
   "metadata": {},
   "outputs": [
    {
     "data": {
      "text/html": [
       "<table>\n",
       "<caption>A tibble: 1 × 5</caption>\n",
       "<thead>\n",
       "\t<tr><th scope=col>thalach</th><th scope=col>age</th><th scope=col>chol</th><th scope=col>trestbps</th><th scope=col>oldpeak</th></tr>\n",
       "\t<tr><th scope=col>&lt;dbl&gt;</th><th scope=col>&lt;dbl&gt;</th><th scope=col>&lt;dbl&gt;</th><th scope=col>&lt;dbl&gt;</th><th scope=col>&lt;dbl&gt;</th></tr>\n",
       "</thead>\n",
       "<tbody>\n",
       "\t<tr><td>139.8224</td><td>57.2243</td><td>250.9626</td><td>135.6916</td><td>1.592523</td></tr>\n",
       "</tbody>\n",
       "</table>\n"
      ],
      "text/latex": [
       "A tibble: 1 × 5\n",
       "\\begin{tabular}{lllll}\n",
       " thalach & age & chol & trestbps & oldpeak\\\\\n",
       " <dbl> & <dbl> & <dbl> & <dbl> & <dbl>\\\\\n",
       "\\hline\n",
       "\t 139.8224 & 57.2243 & 250.9626 & 135.6916 & 1.592523\\\\\n",
       "\\end{tabular}\n"
      ],
      "text/markdown": [
       "\n",
       "A tibble: 1 × 5\n",
       "\n",
       "| thalach &lt;dbl&gt; | age &lt;dbl&gt; | chol &lt;dbl&gt; | trestbps &lt;dbl&gt; | oldpeak &lt;dbl&gt; |\n",
       "|---|---|---|---|---|\n",
       "| 139.8224 | 57.2243 | 250.9626 | 135.6916 | 1.592523 |\n",
       "\n"
      ],
      "text/plain": [
       "  thalach  age     chol     trestbps oldpeak \n",
       "1 139.8224 57.2243 250.9626 135.6916 1.592523"
      ]
     },
     "metadata": {},
     "output_type": "display_data"
    }
   ],
   "source": [
    "set.seed(15)\n",
    "heart_disease_mean_true <- heart_disease_train %>%\n",
    "    filter(hasdisease == TRUE) %>%\n",
    "    select(thalach, age, chol, trestbps,oldpeak) %>%\n",
    "    map_df(mean, na.rm  = TRUE)\n",
    "\n",
    "heart_disease_mean_true"
   ]
  },
  {
   "cell_type": "markdown",
   "metadata": {},
   "source": [
    "Shown above is a table of averages of the variables which we decided to include in our project journey :D"
   ]
  },
  {
   "cell_type": "code",
   "execution_count": null,
   "metadata": {},
   "outputs": [],
   "source": []
  },
  {
   "cell_type": "code",
   "execution_count": 15,
   "metadata": {},
   "outputs": [
    {
     "name": "stderr",
     "output_type": "stream",
     "text": [
      "`stat_bin()` using `bins = 30`. Pick better value with `binwidth`.\n",
      "\n"
     ]
    },
    {
     "data": {
      "image/png": "[encoded data removed]",
      "text/plain": [
       "plot without title"
      ]
     },
     "metadata": {
      "image/png": {
       "height": 300,
       "width": 600
      }
     },
     "output_type": "display_data"
    }
   ],
   "source": [
    "set.seed(15)\n",
    "options(repr.plot.width = 10, repr.plot.height = 5)\n",
    "thalach_plot <- ggplot(heart_disease_train,aes(x=thalach,fill=hasdisease))+\n",
    "    geom_histogram()+\n",
    "    labs(x=\"thalach\",fill=\"Has heart disease\")\n",
    "thalach_plot"
   ]
  },
  {
   "cell_type": "code",
   "execution_count": 16,
   "metadata": {},
   "outputs": [
    {
     "name": "stderr",
     "output_type": "stream",
     "text": [
      "`stat_bin()` using `bins = 30`. Pick better value with `binwidth`.\n",
      "\n"
     ]
    },
    {
     "data": {
      "image/png": "[encoded data removed]",
      "text/plain": [
       "plot without title"
      ]
     },
     "metadata": {
      "image/png": {
       "height": 300,
       "width": 600
      }
     },
     "output_type": "display_data"
    }
   ],
   "source": [
    "set.seed(15)\n",
    "options(repr.plot.width = 10, repr.plot.height = 5)\n",
    "age_plot <- ggplot(heart_disease_train,aes(x=age,fill=hasdisease))+\n",
    "    geom_histogram()+\n",
    "    labs(x=\"age\",fill=\"HEART DISEASE LEVEL\")\n",
    "age_plot"
   ]
  },
  {
   "cell_type": "code",
   "execution_count": 17,
   "metadata": {},
   "outputs": [
    {
     "name": "stderr",
     "output_type": "stream",
     "text": [
      "`stat_bin()` using `bins = 30`. Pick better value with `binwidth`.\n",
      "\n"
     ]
    },
    {
     "data": {
      "image/png": "[encoded data removed]",
      "text/plain": [
       "plot without title"
      ]
     },
     "metadata": {
      "image/png": {
       "height": 300,
       "width": 600
      }
     },
     "output_type": "display_data"
    }
   ],
   "source": [
    "set.seed(15)\n",
    "options(repr.plot.width = 10, repr.plot.height = 5)\n",
    "chol_plot <- ggplot(heart_disease_train,aes(x=chol,fill=hasdisease))+\n",
    "    geom_histogram()+\n",
    "    labs(x=\"CHOL\",fill=\"HEART DISEASE LEVEL\")\n",
    "chol_plot"
   ]
  },
  {
   "cell_type": "code",
   "execution_count": 18,
   "metadata": {},
   "outputs": [
    {
     "name": "stderr",
     "output_type": "stream",
     "text": [
      "`stat_bin()` using `bins = 30`. Pick better value with `binwidth`.\n",
      "\n"
     ]
    },
    {
     "data": {
      "image/png": "[encoded data removed]",
      "text/plain": [
       "plot without title"
      ]
     },
     "metadata": {
      "image/png": {
       "height": 300,
       "width": 600
      }
     },
     "output_type": "display_data"
    }
   ],
   "source": [
    "set.seed(15)\n",
    "options(repr.plot.width = 10, repr.plot.height = 5)\n",
    "trestbps_plot <- ggplot(heart_disease_train,aes(x=trestbps,fill=hasdisease))+\n",
    "    geom_histogram()+\n",
    "    labs(x=\"trestbps\",fill=\"HEART DISEASE LEVEL\")\n",
    "trestbps_plot"
   ]
  },
  {
   "cell_type": "code",
   "execution_count": 19,
   "metadata": {},
   "outputs": [
    {
     "name": "stderr",
     "output_type": "stream",
     "text": [
      "`stat_bin()` using `bins = 30`. Pick better value with `binwidth`.\n",
      "\n"
     ]
    },
    {
     "data": {
      "image/png": "[encoded data removed]",
      "text/plain": [
       "plot without title"
      ]
     },
     "metadata": {
      "image/png": {
       "height": 300,
       "width": 600
      }
     },
     "output_type": "display_data"
    }
   ],
   "source": [
    "set.seed(15)\n",
    "options(repr.plot.width = 10, repr.plot.height = 5)\n",
    "oldpeak_plot <- ggplot(heart_disease_train,aes(x=oldpeak,fill=hasdisease))+\n",
    "    geom_histogram()+\n",
    "    labs(x=\"oldpeak\",fill=\"HEART DISEASE LEVEL\")\n",
    "oldpeak_plot"
   ]
  },
  {
   "cell_type": "markdown",
   "metadata": {},
   "source": [
    "__Method:__ Looking at the ggpairs plots, we observed the histograms that showed trends; these were the variables: age, resting blood pressure (trestbps), cholesterol (chol), maximum heart rate achieved (thalach), and ST depression induced by exercise relative to rest (oldpeak). Additionally, because using numerical values creates a more accurate knn classification, we used these columns to predict diagnosis of heart disease (num). We confirmed that these variables were significant by using histograms between the mentioned columns and num. All variables showed some correlation to heart disease. Using those variables we will make scatterplots to predict the classification of heart disease using the k nearest neighbours function. "
   ]
  },
  {
   "cell_type": "markdown",
   "metadata": {},
   "source": [
    "__Expected Outcome and Significance:__ \n",
    "Based on our current visualizations we expect to find that the 5 factors of age, thalach, cholesterol, trestbps, oldpeak would be accurate predictors of potential heart disease patients. Additionally, we expect that some of the factors will be more significant predictors than others. \n",
    "If we find which factors lead to the greatest risk of heart disease, then the model could be used to help predict if new patients may be at risk for heart disease. Additionally, by knowing which factors lead to higher risk of heart disease, patients can use that information to adapt their lifestyle as much as they can to mitigate their risk of heart disease. Some other questions we can explore include, \"what are some ways people can mitigate the risk of developing hearth disease?\", and \"do the variables we found contribute to other health issues?\""
   ]
  }
 ],
 "metadata": {
  "kernelspec": {
   "display_name": "R",
   "language": "R",
   "name": "ir"
  },
  "language_info": {
   "codemirror_mode": "r",
   "file_extension": ".r",
   "mimetype": "text/x-r-source",
   "name": "R",
   "pygments_lexer": "r",
   "version": "4.0.0"
  }
 },
 "nbformat": 4,
 "nbformat_minor": 4
}
